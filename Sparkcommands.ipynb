{
 "cells": [
  {
   "cell_type": "code",
   "execution_count": 133,
   "id": "1609a87d",
   "metadata": {},
   "outputs": [],
   "source": [
    "from pyspark.sql import SparkSession\n",
    "import pyspark.sql.types as T\n",
    "#если надоела буква T.,однако есть опасность перечислить не всё:\n",
    "from pyspark.sql.types import StructType, StructField, IntegerType, StringType, DateType, LongType, BooleanType\n",
    "\n",
    "import pyspark.sql.functions as F\n",
    "from pyspark.sql.functions import udf\n",
    "from pyspark.sql.functions import window\n",
    "\n",
    "import datetime\n"
   ]
  },
  {
   "cell_type": "code",
   "execution_count": 134,
   "id": "489eeea8",
   "metadata": {},
   "outputs": [],
   "source": [
    "#стандартное создание спарк-сессии\n",
    "spark = SparkSession.builder.master(\"local\").\\\n",
    "                appName(\"Home_Work_py\").\\\n",
    "                config(\"spark.driver.bindAddress\", \"localhost\").\\\n",
    "                config(\"spark.ui.port\", \"4040\").\\\n",
    "                getOrCreate()"
   ]
  },
  {
   "cell_type": "code",
   "execution_count": 135,
   "id": "37c6b068",
   "metadata": {},
   "outputs": [],
   "source": [
    "#эксперимент со схемой из практики, эксперимент без схемы тоже был, но заместился схемой\n",
    "schema = StructType(fields=[\n",
    "    StructField(\"firstname\", StringType()),\n",
    "    StructField(\"middlename\", StringType()),\n",
    "    StructField(\"surname\", StringType()),\n",
    "    StructField(\"dateadd\", StringType()),\n",
    "    StructField(\"sex\", StringType()),\n",
    "    StructField(\"salary\", StringType())\n",
    "])"
   ]
  },
  {
   "cell_type": "code",
   "execution_count": 136,
   "id": "d5835f03",
   "metadata": {},
   "outputs": [],
   "source": [
    "data = [ ('Петя','Обертонович','Петров','12-12-2010','M',3000)\n",
    "        ,('Маша','Михайловна','Мишина','10-09-2000','F',5000)\n",
    "        ,('Коля','Николаевич','Козлов','15-06-1999','M',4000)\n",
    "        ,('Вася','Евсеевич','Перегудов','01-01-1954','M',7000)\n",
    "        ,('Амалия','Известновна','Гессен-Дармштадтская','07-07-1754','F',5000)\n",
    "        ,('Виктор','Иванович','Фауст','08-03-1984','M',6000)\n",
    "        ,('Леонид','Давидович','Троцкий','17-07-1895','M',11000)\n",
    "        ,('Джермен','Михайлович','Гвишиани','27-09-1895','M',15000)\n",
    "        ,('Давид','Изишлопович','Вишман','25-02-1969','M',9000)\n",
    "        ,('Эзоп','Васильевич','Филимонов','02-04-1978','M',7000)\n",
    "]"
   ]
  },
  {
   "cell_type": "code",
   "execution_count": 137,
   "id": "6c906bad",
   "metadata": {},
   "outputs": [],
   "source": [
    "#создаём спарковский датафрейм\n",
    "df = spark.createDataFrame(data = data, schema = schema )"
   ]
  },
  {
   "cell_type": "code",
   "execution_count": 138,
   "id": "ac15904e",
   "metadata": {},
   "outputs": [],
   "source": [
    "#эксперимент без схемы тоже был, но заместился схемой\n",
    "#data = [ ('Петя','','Петров','12-12-2010','M',3000)\n",
    "#        ,('Маша','Михайловна','Мишина','10-09-2000','F',5000)\n",
    "#        ,('Коля','Николаевич','','15-06-1999','M',4000)\n",
    "#        ,('Вася','','Флакин,'01-01-1954','M',7000)\n",
    "#        ,('Иоханес','Фри','Монсеньеор','30-05-1754','M',5000)\n",
    "#]\n",
    "\n",
    "#columns = ['firstame', 'midlename', 'secondname', 'dob', 'gender', 'salary']\n",
    "#df = spark.createDataFrame(data = data, schema = columns )\n"
   ]
  },
  {
   "cell_type": "code",
   "execution_count": 139,
   "id": "a389c328",
   "metadata": {},
   "outputs": [
    {
     "data": {
      "text/plain": [
       "10"
      ]
     },
     "execution_count": 139,
     "metadata": {},
     "output_type": "execute_result"
    }
   ],
   "source": [
    "df.count()"
   ]
  },
  {
   "cell_type": "code",
   "execution_count": 140,
   "id": "5c01be42",
   "metadata": {},
   "outputs": [
    {
     "name": "stdout",
     "output_type": "stream",
     "text": [
      "+---------+-----------+--------------------+----------+---+------+\n",
      "|firstname| middlename|             surname|   dateadd|sex|salary|\n",
      "+---------+-----------+--------------------+----------+---+------+\n",
      "|     Петя|Обертонович|              Петров|12-12-2010|  M|  3000|\n",
      "|     Маша| Михайловна|              Мишина|10-09-2000|  F|  5000|\n",
      "|     Коля| Николаевич|              Козлов|15-06-1999|  M|  4000|\n",
      "|     Вася|   Евсеевич|           Перегудов|01-01-1954|  M|  7000|\n",
      "|   Амалия|Известновна|Гессен-Дармштадтская|07-07-1754|  F|  5000|\n",
      "|   Виктор|   Иванович|               Фауст|08-03-1984|  M|  6000|\n",
      "|   Леонид|  Давидович|             Троцкий|17-07-1895|  M| 11000|\n",
      "|  Джермен| Михайлович|            Гвишиани|27-09-1895|  M| 15000|\n",
      "|    Давид|Изишлопович|              Вишман|25-02-1969|  M|  9000|\n",
      "|     Эзоп| Васильевич|           Филимонов|02-04-1978|  M|  7000|\n",
      "+---------+-----------+--------------------+----------+---+------+\n",
      "\n"
     ]
    }
   ],
   "source": [
    "df.show(10)"
   ]
  },
  {
   "cell_type": "code",
   "execution_count": 141,
   "id": "9a76ec50",
   "metadata": {},
   "outputs": [
    {
     "name": "stdout",
     "output_type": "stream",
     "text": [
      "root\n",
      " |-- firstname: string (nullable = true)\n",
      " |-- middlename: string (nullable = true)\n",
      " |-- surname: string (nullable = true)\n",
      " |-- dateadd: string (nullable = true)\n",
      " |-- sex: string (nullable = true)\n",
      " |-- salary: string (nullable = true)\n",
      "\n"
     ]
    }
   ],
   "source": [
    "df.printSchema()"
   ]
  },
  {
   "cell_type": "markdown",
   "id": "6b40e7b5",
   "metadata": {},
   "source": [
    "## a. Создайте схему будущего фрейма данных.\n",
    "Схема должна включать следующие атрибуты:\n",
    "\n",
    "·id - уникальный идентификатор посетителя сайта. Тип – последовательность чисел фиксированной длины. Данное поле не является первичным ключом.\n",
    "\n",
    "· timestamp – дата и время события в формате unix timestamp.\n",
    "\n",
    "· type – тип события, значение из списка (факт посещения(visit), клик по визуальному элементу страницы(click), скролл(scroll), перед на другую страницу(move)).\n",
    "\n",
    "· page_id – id текущей страницы. Тип - последовательность чисел фиксированной длины.\n",
    "\n",
    "· tag – каждая страница с новостью размечается редакцией специальными тегами, которые отражают тематику конкретной новости со страницы. Возможный список тематик: политика, спорт, медицина и т.д.\n",
    "\n",
    "· sign – наличие у пользователя личного кабинета. Значения – True/False."
   ]
  },
  {
   "cell_type": "code",
   "execution_count": 142,
   "id": "c711990f",
   "metadata": {},
   "outputs": [],
   "source": [
    "schema_web = StructType(fields=[\n",
    "    StructField(\"id\", LongType()),\n",
    "    StructField(\"timestamp\", LongType()),\n",
    "    StructField(\"type\", StringType()),\n",
    "    StructField(\"page_id\", LongType()),\n",
    "    StructField(\"tag\", StringType()),\n",
    "    StructField(\"sign\", BooleanType())\n",
    "])"
   ]
  },
  {
   "cell_type": "code",
   "execution_count": 176,
   "id": "98cc901a",
   "metadata": {},
   "outputs": [],
   "source": [
    "data_web = [ (1, 1667627426, \"visit\", 101, 'Sport', False)\n",
    "            ,(1, 1667627826, \"scroll\", 101, 'Sport', False)\n",
    "            ,(1, 1667627880, \"click\", 101, 'Sport', False)\n",
    "            ,(1, 1667657980, \"visit\", 102, 'Politics', False)\n",
    "            ,(1, 1667727980, \"click\", 102, 'Politics', False)\n",
    "            ,(1, 1667638180, \"visit\", 102, 'Politics', False)\n",
    "            ,(2, 1667678326, \"visit\", 103, 'Politics', True)\n",
    "            ,(2, 1667628526, \"scroll\", 103, 'Politics', True)\n",
    "            ,(2, 1667628680, \"click\", 104, 'Politics', True)\n",
    "            ,(2, 1667628697, \"click\", 104, 'Politics', True)\n",
    "            ,(2, 1667628880, \"visit\", 105, 'Business', True)\n",
    "            ,(2, 1667708810, \"click\", 105, 'Business', True)\n",
    "            ,(3, 1667628980, \"visit\", 106, 'Sport', False)\n",
    "            ,(1, 1667927980, \"click\", 102, 'Politics', False)\n",
    "            ,(3, 1667629180, \"click\", 106, 'Sport', False)\n",
    "            ,(3, 1667629480, \"visit\", 107, 'Business', False)\n",
    "            ,(1, 1668627980, \"click\", 102, 'Politics', False)\n",
    "            ,(3, 1667629580, \"scroll\", 107, 'Politics', False)\n",
    "            ,(4, 1667635550, \"click\", 101, 'Sport', False)\n",
    "            ,(3, 1667629580, \"scroll\", 107, 'Business', False)\n",
    "            ,(3, 1668629570, \"click\", 106, 'Sport', False)\n",
    "            ,(5, 1668639580, \"click\", 106, 'Sport', False)\n",
    "            ,(6, 1669629560, \"scroll\", 101, 'Sports', False)\n",
    "            ,(7, 1669629590, \"click\", 106, 'Sport', False)]"
   ]
  },
  {
   "cell_type": "code",
   "execution_count": 207,
   "id": "1c49ea6d",
   "metadata": {},
   "outputs": [],
   "source": [
    "# c.       Наполните датафрейм данными.\n",
    "data_lk =[\n",
    "    (1000,1,\"Иванов Иван Иванович\", datetime.datetime(1990,7,5), datetime.datetime(2016,8,15)),\n",
    "    (1060,3,\"Петя Обертонович Петров\", datetime.datetime(1995,10,2), datetime.datetime(2010,3,20)),\n",
    "    (1050,2,\"Леонид Давидович Троцкий\", datetime.datetime(1895,12,1), datetime.datetime(1917,4,1)),\n",
    "    (1040,7,\"Авдотья Феодосевна Новицкая\", datetime.datetime(1965,2,1), datetime.datetime(1997,4,1)),\n",
    "    (1047,5,\"Аполлон Евстафьевич Градский\", datetime.datetime(1895,12,1), datetime.datetime(2017,4,1)),\n",
    "    (1045,6,\"Валентин Исакиевич Вермонт\", datetime.datetime(1895,12,1), datetime.datetime(2014,5,6)),\n",
    "    (1041,4,\"Клаудерис Спаркович Хайвский\", datetime.datetime(1895,12,1), datetime.datetime(2022,8,7)),\n",
    "]"
   ]
  },
  {
   "cell_type": "code",
   "execution_count": 211,
   "id": "e11ecb37",
   "metadata": {},
   "outputs": [],
   "source": [
    "schema_lk = StructType(fields=[\n",
    "    StructField(\"id_cab\", LongType()),\n",
    "    StructField(\"user_id\", LongType()),\n",
    "    StructField(\"FIO\", StringType()),\n",
    "    StructField(\"birthdate\", DateType()),\n",
    "    StructField(\"cab_regdate\", DateType()),\n",
    "])"
   ]
  },
  {
   "cell_type": "code",
   "execution_count": 219,
   "id": "cf11fd20",
   "metadata": {},
   "outputs": [
    {
     "name": "stdout",
     "output_type": "stream",
     "text": [
      "+---+----------+------+-------+--------+-----+\n",
      "| id| timestamp|  type|page_id|     tag| sign|\n",
      "+---+----------+------+-------+--------+-----+\n",
      "|  1|1667627426| visit|    101|   Sport|false|\n",
      "|  1|1667627826|scroll|    101|   Sport|false|\n",
      "|  1|1667627880| click|    101|   Sport|false|\n",
      "|  1|1667657980| visit|    102|Politics|false|\n",
      "|  1|1667727980| click|    102|Politics|false|\n",
      "|  1|1667638180| visit|    102|Politics|false|\n",
      "|  2|1667678326| visit|    103|Politics| true|\n",
      "|  2|1667628526|scroll|    103|Politics| true|\n",
      "|  2|1667628680| click|    104|Politics| true|\n",
      "|  2|1667628697| click|    104|Politics| true|\n",
      "|  2|1667628880| visit|    105|Business| true|\n",
      "|  2|1667708810| click|    105|Business| true|\n",
      "|  3|1667628980| visit|    106|   Sport|false|\n",
      "|  1|1667927980| click|    102|Politics|false|\n",
      "|  3|1667629180| click|    106|   Sport|false|\n",
      "|  3|1667629480| visit|    107|Business|false|\n",
      "|  1|1668627980| click|    102|Politics|false|\n",
      "|  3|1667629580|scroll|    107|Politics|false|\n",
      "|  4|1667635550| click|    101|   Sport|false|\n",
      "|  3|1667629580|scroll|    107|Business|false|\n",
      "+---+----------+------+-------+--------+-----+\n",
      "only showing top 20 rows\n",
      "\n"
     ]
    }
   ],
   "source": [
    "# b.       Создайте датафрейм с описанной выше схемой данных.\n",
    "df_web = spark.createDataFrame(data=data_web, schema = schema_web)\n",
    "df_web.show()"
   ]
  },
  {
   "cell_type": "code",
   "execution_count": 213,
   "id": "e6d640d0",
   "metadata": {},
   "outputs": [
    {
     "name": "stdout",
     "output_type": "stream",
     "text": [
      "+------+-------+--------------------+----------+-----------+\n",
      "|id_cab|user_id|                 FIO| birthdate|cab_regdate|\n",
      "+------+-------+--------------------+----------+-----------+\n",
      "|  1000|      1|Иванов Иван Иванович|1990-07-05| 2016-08-15|\n",
      "|  1060|      3|Петя Обертонович ...|1995-10-02| 2010-03-20|\n",
      "|  1050|      2|Леонид Давидович ...|1895-12-01| 1917-04-01|\n",
      "|  1040|      7|Авдотья Феодосевн...|1965-02-01| 1997-04-01|\n",
      "|  1047|      5|Аполлон Евстафьев...|1895-12-01| 2017-04-01|\n",
      "|  1045|      6|Валентин Исакиеви...|1895-12-01| 2014-05-06|\n",
      "|  1041|      4|Клаудерис Спарков...|1895-12-01| 2022-08-07|\n",
      "+------+-------+--------------------+----------+-----------+\n",
      "\n"
     ]
    }
   ],
   "source": [
    "# b.       Создайте датафрейм с описанной выше схемой данных.\n",
    "df_lk = spark.createDataFrame(data=data_lk, schema = schema_lk)\n",
    "df_lk.show()"
   ]
  },
  {
   "cell_type": "markdown",
   "id": "be32b606",
   "metadata": {},
   "source": [
    "## d. Решите следующие задачи:"
   ]
  },
  {
   "cell_type": "code",
   "execution_count": 220,
   "id": "388f896a",
   "metadata": {},
   "outputs": [
    {
     "name": "stderr",
     "output_type": "stream",
     "text": [
      "                                                                                \r"
     ]
    },
    {
     "name": "stdout",
     "output_type": "stream",
     "text": [
      "+---+-----+\n",
      "| id|count|\n",
      "+---+-----+\n",
      "|  1|    8|\n",
      "|  3|    6|\n",
      "|  2|    6|\n",
      "|  7|    1|\n",
      "|  6|    1|\n",
      "+---+-----+\n",
      "only showing top 5 rows\n",
      "\n"
     ]
    },
    {
     "name": "stderr",
     "output_type": "stream",
     "text": [
      "                                                                                \r"
     ]
    },
    {
     "name": "stdout",
     "output_type": "stream",
     "text": [
      "+--------------------+\n",
      "|                 FIO|\n",
      "+--------------------+\n",
      "|Авдотья Феодосевн...|\n",
      "|Валентин Исакиеви...|\n",
      "|Аполлон Евстафьев...|\n",
      "|Иванов Иван Иванович|\n",
      "|Петя Обертонович ...|\n",
      "+--------------------+\n",
      "only showing top 5 rows\n",
      "\n"
     ]
    }
   ],
   "source": [
    "# Вывести топ-5 самых активных посетителей сайта\n",
    "df_top5 = df_web.groupby(\"id\").count().sort(\"count\" , ascending=False)\n",
    "df_top5.show(5)\n",
    "# с ФИО\n",
    "df_top5_rez = df_top5.join(df_lk, on= (df_top5.id==df_lk.user_id)).select(['FIO'])\n",
    "df_top5_rez.show(5)"
   ]
  },
  {
   "cell_type": "code",
   "execution_count": 221,
   "id": "73a468a1",
   "metadata": {},
   "outputs": [
    {
     "name": "stderr",
     "output_type": "stream",
     "text": [
      "                                                                                \r"
     ]
    },
    {
     "name": "stdout",
     "output_type": "stream",
     "text": [
      "Всего активных пользователей 7\n"
     ]
    },
    {
     "name": "stderr",
     "output_type": "stream",
     "text": [
      "[Stage 304:=========================================>           (156 + 1) / 200]\r"
     ]
    },
    {
     "name": "stdout",
     "output_type": "stream",
     "text": [
      "Всего у кого есть кабинет 1\n",
      "Ответ: процент посетителей, у которых есть ЛК = 14.3%\n"
     ]
    },
    {
     "name": "stderr",
     "output_type": "stream",
     "text": [
      "                                                                                \r"
     ]
    }
   ],
   "source": [
    "# посчитать процент посетителей у которых есть ЛК\n",
    "df_tmp = df_web.select(['id','sign']).distinct()\n",
    "num_users = df_tmp.count()\n",
    "print(\"Всего активных пользователей\", num_users)\n",
    "num_users_lk = df_tmp.select(['id','sign']).where(df_tmp.sign == True).count()\n",
    "print(\"Всего у кого есть кабинет\", num_users_lk)\n",
    "print(f\"Ответ: процент посетителей, у которых есть ЛК = {num_users_lk/num_users*100:.1f}%\" )"
   ]
  },
  {
   "cell_type": "code",
   "execution_count": 222,
   "id": "28f1d0d4",
   "metadata": {},
   "outputs": [
    {
     "name": "stderr",
     "output_type": "stream",
     "text": [
      "[Stage 307:=============================================>       (173 + 2) / 200]\r"
     ]
    },
    {
     "name": "stdout",
     "output_type": "stream",
     "text": [
      "+-------+-----+\n",
      "|page_id|count|\n",
      "+-------+-----+\n",
      "|    106|    4|\n",
      "|    102|    3|\n",
      "|    101|    2|\n",
      "|    104|    2|\n",
      "|    105|    1|\n",
      "+-------+-----+\n",
      "\n"
     ]
    },
    {
     "name": "stderr",
     "output_type": "stream",
     "text": [
      "                                                                                \r"
     ]
    }
   ],
   "source": [
    "# Вывести топ-5 страниц сайта по показателю общего кол-ва кликов на данной странице\n",
    "df_web.select([\"page_id\", \"type\"]).where(df_web.type == 'click').groupby('page_id').count().sort(\"count\", ascending=False).show(5)"
   ]
  },
  {
   "cell_type": "code",
   "execution_count": 223,
   "id": "468bfec7",
   "metadata": {},
   "outputs": [
    {
     "name": "stdout",
     "output_type": "stream",
     "text": [
      "+---+----------+------+-------+--------+-----+----------+\n",
      "| id| timestamp|  type|page_id|     tag| sign|event_time|\n",
      "+---+----------+------+-------+--------+-----+----------+\n",
      "|  1|1667627426| visit|    101|   Sport|false|       4-8|\n",
      "|  1|1667627826|scroll|    101|   Sport|false|       4-8|\n",
      "|  1|1667627880| click|    101|   Sport|false|       4-8|\n",
      "|  1|1667657980| visit|    102|Politics|false|     12-16|\n",
      "|  1|1667727980| click|    102|Politics|false|      8-12|\n",
      "|  1|1667638180| visit|    102|Politics|false|      8-12|\n",
      "|  2|1667678326| visit|    103|Politics| true|     16-20|\n",
      "|  2|1667628526|scroll|    103|Politics| true|       4-8|\n",
      "|  2|1667628680| click|    104|Politics| true|       4-8|\n",
      "|  2|1667628697| click|    104|Politics| true|       4-8|\n",
      "|  2|1667628880| visit|    105|Business| true|       4-8|\n",
      "|  2|1667708810| click|    105|Business| true|       4-8|\n",
      "|  3|1667628980| visit|    106|   Sport|false|       4-8|\n",
      "|  1|1667927980| click|    102|Politics|false|     16-20|\n",
      "|  3|1667629180| click|    106|   Sport|false|       4-8|\n",
      "|  3|1667629480| visit|    107|Business|false|       4-8|\n",
      "|  1|1668627980| click|    102|Politics|false|     16-20|\n",
      "|  3|1667629580|scroll|    107|Politics|false|       4-8|\n",
      "|  4|1667635550| click|    101|   Sport|false|      8-12|\n",
      "|  3|1667629580|scroll|    107|Business|false|       4-8|\n",
      "+---+----------+------+-------+--------+-----+----------+\n",
      "only showing top 20 rows\n",
      "\n"
     ]
    }
   ],
   "source": [
    "#Добавьте столбец к фрейму данных со значением временного диапазона в рамках суток с размером окна – 4 часа(0-4, 4-8, 8-12 и т.д.)\n",
    "\n",
    "df_web = df_web.withColumn(\"interval_num\", \n",
    "    F.floor( 0.25*F.hour( \n",
    "                     F.from_unixtime(df_web.timestamp)\n",
    "                  ) \n",
    "           ) \n",
    ")\n",
    "#добавляем колонки с рассчитанным началом и концом интервала\n",
    "df_web = df_web.withColumn('int0', 4*df_web.interval_num) #.printSchema() #show()\n",
    "df_web = df_web.withColumn('int1', df_web.int0+4) #.printSchema() #show()\n",
    "#сливаем колонки в одну\n",
    "df_web = df_web.withColumn('event_time', F.concat(df_web.int0, F.lit(\"-\"), df_web.int1)) #.printSchema() #show()\n",
    "#оставляем только нужное\n",
    "df_web = df_web.select([\"id\", \"timestamp\", \"type\", \"page_id\", \"tag\", \"sign\", \"event_time\"])\n",
    "df_web.show()"
   ]
  },
  {
   "cell_type": "code",
   "execution_count": 224,
   "id": "d1a1ed68",
   "metadata": {},
   "outputs": [
    {
     "name": "stderr",
     "output_type": "stream",
     "text": [
      "[Stage 310:=========================================>           (158 + 1) / 200]\r"
     ]
    },
    {
     "name": "stdout",
     "output_type": "stream",
     "text": [
      "+----------+-----+\n",
      "|event_time|count|\n",
      "+----------+-----+\n",
      "|       4-8|   13|\n",
      "+----------+-----+\n",
      "only showing top 1 row\n",
      "\n"
     ]
    },
    {
     "name": "stderr",
     "output_type": "stream",
     "text": [
      "                                                                                \r"
     ]
    }
   ],
   "source": [
    "# Выведите временной промежуток на основе предыдущего задания, в течение которого было больше всего активностей на сайте.\n",
    "df_web.groupBy(\"event_time\").count().sort(\"count\", ascending=False).show(1)"
   ]
  },
  {
   "cell_type": "markdown",
   "id": "ab96fe49",
   "metadata": {},
   "source": [
    "## Создайте второй фрейм данных,\n",
    "который будет содержать информацию о ЛК посетителя сайта со следующим списком атрибутов\n",
    "\n",
    "  Id – уникальный идентификатор личного кабинета\n",
    "  \n",
    "  User_id – уникальный идентификатор посетителя\n",
    "  \n",
    "  ФИО посетителя\n",
    "  \n",
    "  Дату рождения посетителя\n",
    "  \n",
    "  Дата создания ЛК"
   ]
  },
  {
   "cell_type": "code",
   "execution_count": 225,
   "id": "2cac5fb3",
   "metadata": {},
   "outputs": [],
   "source": [
    "#сделали в ячейках 159-162 (-161)"
   ]
  },
  {
   "cell_type": "code",
   "execution_count": 226,
   "id": "4ee9c280",
   "metadata": {},
   "outputs": [
    {
     "name": "stdout",
     "output_type": "stream",
     "text": [
      "+---+-----+\n",
      "| id|  tag|\n",
      "+---+-----+\n",
      "|  4|Sport|\n",
      "|  1|Sport|\n",
      "|  7|Sport|\n",
      "|  3|Sport|\n",
      "|  5|Sport|\n",
      "+---+-----+\n",
      "\n"
     ]
    },
    {
     "name": "stderr",
     "output_type": "stream",
     "text": [
      "[Stage 340:==========================================>            (58 + 1) / 75]\r"
     ]
    },
    {
     "name": "stdout",
     "output_type": "stream",
     "text": [
      "+--------------------+\n",
      "|                 FIO|\n",
      "+--------------------+\n",
      "|Авдотья Феодосевн...|\n",
      "|Аполлон Евстафьев...|\n",
      "|Иванов Иван Иванович|\n",
      "|Петя Обертонович ...|\n",
      "|Клаудерис Спарков...|\n",
      "+--------------------+\n",
      "\n"
     ]
    },
    {
     "name": "stderr",
     "output_type": "stream",
     "text": [
      "                                                                                \r"
     ]
    }
   ],
   "source": [
    "# Вывести фамилии посетителей, которые читали хотя бы одну новость про спорт.\n",
    "# пять активных из таблицы с кликами, только данных чуть не хватило(\n",
    "df_sport = df_web.select(['id', 'tag']).where(df_web.tag == \"Sport\").distinct() #groupby(\"id\").count().sort(\"count\" , ascending=False)\n",
    "df_sport.show(5)\n",
    "# имена пяти(теоретически) активных пользователей\n",
    "df_sport = df_sport.join(df_lk, on= (df_sport.id==df_lk.user_id), how='left').select(['FIO'])\n",
    "df_sport.show()"
   ]
  },
  {
   "cell_type": "code",
   "execution_count": 227,
   "id": "2072bd93",
   "metadata": {},
   "outputs": [],
   "source": [
    "# Проба на жирненькое *Выведите 10% ЛК,\n",
    "# у которых максимальная разница между датой создания ЛК и датой последнего посещения."
   ]
  },
  {
   "cell_type": "code",
   "execution_count": 232,
   "id": "ee69d9f8",
   "metadata": {},
   "outputs": [
    {
     "name": "stdout",
     "output_type": "stream",
     "text": [
      "2022-11-29 13:24:02.513933\n",
      "1669728242.513887\n"
     ]
    },
    {
     "name": "stderr",
     "output_type": "stream",
     "text": [
      "[Stage 364:========================================>            (152 + 1) / 200]\r"
     ]
    },
    {
     "name": "stdout",
     "output_type": "stream",
     "text": [
      "+------+-------+--------------------+----------+-----------+---+-------+\n",
      "|id_cab|user_id|                 FIO| birthdate|cab_regdate| id|max(id)|\n",
      "+------+-------+--------------------+----------+-----------+---+-------+\n",
      "|  1050|      2|Леонид Давидович ...|1895-12-01|-1664755200|  2|      2|\n",
      "+------+-------+--------------------+----------+-----------+---+-------+\n",
      "\n"
     ]
    },
    {
     "name": "stderr",
     "output_type": "stream",
     "text": [
      "                                                                                \r"
     ]
    }
   ],
   "source": [
    "#текущая дата - для тех, кто зарегистрировался  ,но до сих по не зашел на сайт - у них самый максимальный лаг в посещении\n",
    "now_tstmp = datetime.datetime.timestamp( datetime.datetime.now() )\n",
    "print(datetime.datetime.now())\n",
    "print(now_tstmp)\n",
    "num_lk_10pc = round(0.1*df_lk.count())\n",
    "\n",
    "df_delta =\\\n",
    "df_lk.withColumn(\"cab_regdate\", F.unix_timestamp( F.col(\"cab_regdate\") ))\\\n",
    "    .join(\n",
    "df_web.select([\"id\",\"timestamp\"]).groupBy(\"id\" ).max()\n",
    "    , on=(df_web.id == df_lk.user_id)\n",
    "    , how='left')\\\n",
    ".fillna({'max(timestamp)': now_tstmp})\\\n",
    ".withColumn('delta',F.col('max(timestamp)') - F.col('cab_regdate')  )\\\n",
    ".sort('delta', ascending=False)\\\n",
    ".drop(\"delta\").drop(\"max(timestamp)\")\\\n",
    ".limit(num_lk_10pc)\n",
    "\n",
    "df_delta.show()"
   ]
  },
  {
   "cell_type": "code",
   "execution_count": 229,
   "id": "ab6ecf19",
   "metadata": {},
   "outputs": [
    {
     "name": "stdout",
     "output_type": "stream",
     "text": [
      "+------+-------+---+---------+-----------+\n",
      "|id_cab|user_id|FIO|birthdate|cab_regdate|\n",
      "+------+-------+---+---------+-----------+\n",
      "+------+-------+---+---------+-----------+\n",
      "\n"
     ]
    }
   ],
   "source": [
    "#Вывести топ-5 страниц, которые чаще всего посещают мужчины и топ-5 страниц, которые посещают чаще женщины.\n",
    "df_lk_zh=df_lk.withColumn(\"sex\", F.substring(df_lk.FIO, -3, 3))\\\n",
    ".filter('sex in (\"вна\",\"ева\",\"ова\")').drop(\"sex\")\n",
    "\n",
    "df_lk_zh.show()"
   ]
  },
  {
   "cell_type": "code",
   "execution_count": 199,
   "id": "3d32a5a8",
   "metadata": {},
   "outputs": [
    {
     "name": "stdout",
     "output_type": "stream",
     "text": [
      "+------+-------+--------------------+----------+--------------------+\n",
      "|id_cab|user_id|                 FIO| birthdate|         cab_regdate|\n",
      "+------+-------+--------------------+----------+--------------------+\n",
      "|  1000|      1|Иванов Иван Иванович|1990-07-05|java.util.Gregori...|\n",
      "|  1060|      3|Петя Обертонович ...|1995-10-02|java.util.Gregori...|\n",
      "|  1050|      2|Леонид Давидович ...|1895-12-01|java.util.Gregori...|\n",
      "|  1040|      7|Авдотья Феодосевн...|1965-02-01|java.util.Gregori...|\n",
      "|  1047|      5|Аполлон Евстафьев...|1895-12-01|java.util.Gregori...|\n",
      "|  1045|      6|Валентин Исакиеви...|1895-12-01|java.util.Gregori...|\n",
      "|  1041|      4|Клаудерис Спарков...|1895-12-01|java.util.Gregori...|\n",
      "+------+-------+--------------------+----------+--------------------+\n",
      "\n"
     ]
    }
   ],
   "source": [
    "df_lk.show()"
   ]
  },
  {
   "cell_type": "code",
   "execution_count": null,
   "id": "3fa45eaa",
   "metadata": {},
   "outputs": [],
   "source": []
  }
 ],
 "metadata": {
  "kernelspec": {
   "display_name": "Python 3 (ipykernel)",
   "language": "python",
   "name": "python3"
  },
  "language_info": {
   "codemirror_mode": {
    "name": "ipython",
    "version": 3
   },
   "file_extension": ".py",
   "mimetype": "text/x-python",
   "name": "python",
   "nbconvert_exporter": "python",
   "pygments_lexer": "ipython3",
   "version": "3.9.2"
  },
  "toc-showmarkdowntxt": false
 },
 "nbformat": 4,
 "nbformat_minor": 5
}
